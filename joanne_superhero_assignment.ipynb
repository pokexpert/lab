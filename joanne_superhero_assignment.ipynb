{
  "cells": [
    {
      "cell_type": "markdown",
      "metadata": {
        "id": "view-in-github",
        "colab_type": "text"
      },
      "source": [
        "<a href=\"https://colab.research.google.com/github/pokexpert/lab/blob/main/joanne_superhero_assignment.ipynb\" target=\"_parent\"><img src=\"https://colab.research.google.com/assets/colab-badge.svg\" alt=\"Open In Colab\"/></a>"
      ]
    },
    {
      "cell_type": "markdown",
      "id": "5fa8dcf6",
      "metadata": {
        "id": "5fa8dcf6"
      },
      "source": [
        "# Superhero Database Assignment (SQLite & Google Colab)\n",
        "\n",
        "## Objective\n",
        "In this assignment, you will design and implement a **Superhero Database** using SQLite in Google Colab. This database will store superheroes, villains, and their battles. You will write SQL queries to analyze battle outcomes and relationships between heroes and villains.\n",
        "\n",
        "### Group Size:\n",
        "- 2 to 3 students per group.\n",
        "\n",
        "### Tools Required:\n",
        "- **Google Colab**\n",
        "- **SQLite (built into Python)**\n",
        "- **CSV files (provided for import)**"
      ]
    },
    {
      "cell_type": "markdown",
      "id": "5535e625",
      "metadata": {
        "id": "5535e625"
      },
      "source": [
        "## Step 1: Setting Up Your SQLite Database\n",
        "\n",
        "### Tasks:\n",
        "1. Initialize SQLite in Google Colab.\n",
        "2. Create a database named `superhero_db.sqlite`.\n",
        "3. Define the database schema, ensuring it includes the following tables:\n",
        "   - `heroes`: Stores superhero names, powers, and teams.\n",
        "   - `villains`: Stores villains and their evil plans.\n",
        "   - `battles`: Tracks battles between heroes and villains, including the outcome.\n",
        "4. Implement primary keys and foreign keys where appropriate.\n",
        "\n",
        "✅ **Checkpoint:** Ensure that the database and tables have been successfully created."
      ]
    },
    {
      "cell_type": "code",
      "source": [
        "#creating database + connect to an in-memory SQLite database\n",
        "import sqlite3\n",
        "connection = sqlite3.connect('superhero_db.sqlite')\n",
        "print(\"Database created and connected!\")\n",
        "\n",
        "#creating cursor\n",
        "cursor = connection.cursor()\n",
        "print(\"Cursor created!\")\n",
        "\n",
        "#creating hero table with data given in csv\n",
        "cursor.execute('''\n",
        "CREATE TABLE IF NOT EXISTS heroes (\n",
        "    id INTEGER PRIMARY KEY AUTOINCREMENT,\n",
        "    name TEXT NOT NULL,\n",
        "    power TEXT,\n",
        "    team TEXT\n",
        ")\n",
        "''')\n",
        "\n",
        "print(\"heroes table created!\")\n",
        "\n",
        "#creating villains table with data given in csv\n",
        "cursor.execute('''\n",
        "CREATE TABLE IF NOT EXISTS villains (\n",
        "    id INTEGER PRIMARY KEY AUTOINCREMENT,\n",
        "    name TEXT NOT NULL,\n",
        "    evil_plan TEXT\n",
        ")\n",
        "''')\n",
        "\n",
        "print(\"villains table created!\")\n",
        "\n",
        "#creating battles table with data given in csv\n",
        "cursor.execute('''\n",
        "CREATE TABLE IF NOT EXISTS battles (\n",
        "    id INTEGER PRIMARY KEY AUTOINCREMENT,\n",
        "    hero_id INTEGER,\n",
        "    villain_id INTEGER,\n",
        "    outcome TEXT,\n",
        "    FOREIGN KEY (hero_id) REFERENCES heroes(id),\n",
        "    FOREIGN KEY (villain_id) REFERENCES villains(id)\n",
        ")\n",
        "''')\n",
        "\n",
        "print(\"battles table created!\")"
      ],
      "metadata": {
        "id": "_oJu7ANS5g8m",
        "outputId": "fe9e1f1e-88a7-4445-cd66-23f7b3f55086",
        "colab": {
          "base_uri": "https://localhost:8080/"
        }
      },
      "id": "_oJu7ANS5g8m",
      "execution_count": 4,
      "outputs": [
        {
          "output_type": "stream",
          "name": "stdout",
          "text": [
            "Database created and connected!\n",
            "Cursor created!\n",
            "heroes table created!\n",
            "villains table created!\n",
            "battles table created!\n"
          ]
        }
      ]
    },
    {
      "cell_type": "markdown",
      "id": "154b3c3a",
      "metadata": {
        "id": "154b3c3a"
      },
      "source": [
        "## Step 2: Import Data from CSV Files\n",
        "\n",
        "### Tasks:\n",
        "1. Download the provided CSV files.\n",
        "2. Upload them to Google Colab.\n",
        "3. Write a script to import data from these files into the appropriate tables.\n",
        "4. Verify that the data has been successfully inserted.\n",
        "\n",
        "✅ **Checkpoint:** Ensure that each table contains the expected data from the CSV files."
      ]
    },
    {
      "cell_type": "code",
      "source": [
        "import pandas as pd\n",
        "\n",
        "#load data from CSV into a DataFrame\n",
        "heroes = pd.read_csv('heroes.csv')\n",
        "#display the first few rows of the DataFrame\n",
        "print(heroes.head())\n",
        "\n",
        "#load data from CSV into a DataFrame\n",
        "villains = pd.read_csv('villains.csv')\n",
        "#display the first few rows of the DataFrame\n",
        "print(villains.head())\n",
        "\n",
        "#load data from CSV into a DataFrame\n",
        "battles = pd.read_csv('battles.csv')\n",
        "#display the first few rows of the DataFrame\n",
        "print(battles.head())\n",
        "\n",
        "#insert data from the DataFrame into the heroes table\n",
        "heroes.to_sql('heroes', connection, if_exists= 'replace', index = False)\n",
        "print(\"Data from CSV has been inserted into the heroes table.\")\n",
        "\n",
        "#insert data from the DataFrame into the villains table\n",
        "villains.to_sql('villains', connection, if_exists='replace', index=False)\n",
        "print(\"Data from CSV has been inserted into the villains table.\")\n",
        "\n",
        "#insert data from the DataFrame into the battles table\n",
        "battles.to_sql('battles', connection, if_exists='replace', index=False)\n",
        "print(\"Data from CSV has been inserted into the villains table.\")"
      ],
      "metadata": {
        "id": "o_NM5Rng9IpJ",
        "outputId": "f8951ac9-09af-4410-875b-baccd5ca2a2b",
        "colab": {
          "base_uri": "https://localhost:8080/"
        }
      },
      "id": "o_NM5Rng9IpJ",
      "execution_count": 5,
      "outputs": [
        {
          "output_type": "stream",
          "name": "stdout",
          "text": [
            "   id        name             power            team\n",
            "0   1  Spider-Man      Web-slinging        Avengers\n",
            "1   2    Iron Man     Powered Armor        Avengers\n",
            "2   3      Batman  Genius Detective  Justice League\n",
            "3   4    Superman    Super Strength  Justice League\n",
            "4   5        Thor    God of Thunder        Avengers\n",
            "   id          name                           evil_plan\n",
            "0   1  Green Goblin                  Terrorize New York\n",
            "1   2        Thanos         Collect all Infinity Stones\n",
            "2   3         Joker              Spread chaos in Gotham\n",
            "3   4    Lex Luthor                     Defeat Superman\n",
            "4   5          Loki  Trick humanity into worshiping him\n",
            "   id  hero_id  villain_id       outcome\n",
            "0   1        1          10  Villain Wins\n",
            "1   2        9           3     Hero Wins\n",
            "2   3        8           1          Draw\n",
            "3   4        5           4  Villain Wins\n",
            "4   5        1           7     Hero Wins\n",
            "Data from CSV has been inserted into the heroes table.\n",
            "Data from CSV has been inserted into the villains table.\n",
            "Data from CSV has been inserted into the villains table.\n"
          ]
        }
      ]
    },
    {
      "cell_type": "markdown",
      "id": "33548d9f",
      "metadata": {
        "id": "33548d9f"
      },
      "source": [
        "## Step 3: Querying the Database\n",
        "\n",
        "### Tasks:\n",
        "Write SQL queries to answer the following:\n",
        "1. Retrieve all superheroes and their powers.\n",
        "2. Find all battles where the hero won.\n",
        "3. List all villains and their evil plans.\n",
        "4. Determine which superhero has fought the most battles.\n",
        "\n",
        "✅ **Checkpoint:** Ensure that all queries return meaningful results from the database."
      ]
    },
    {
      "cell_type": "code",
      "source": [
        "#fetch all superheroes and their powers from the heroes table\n",
        "cursor.execute(\"SELECT name, power FROM heroes\")\n",
        "rows = cursor.fetchall()\n",
        "\n",
        "#print the results\n",
        "if rows:\n",
        "    print(\"All superheroes and their powers:\")\n",
        "    for name, power in rows:\n",
        "        print(f\"{name}: {power}\")\n",
        "\n",
        "#fetch all battles where hero won from battles table\n",
        "cursor.execute(\"SELECT * FROM battles WHERE outcome = 'Hero Wins'\")\n",
        "rows = cursor.fetchall()\n",
        "\n",
        "#print the results\n",
        "print(\"Hero won: \")\n",
        "for row in rows:\n",
        "  print(row)\n",
        "\n",
        "#fetch all villains and their evil plans from the villains table\n",
        "cursor.execute(\"SELECT name, evil_plan FROM villains\")\n",
        "rows = cursor.fetchall()\n",
        "\n",
        "#print the results\n",
        "if rows:\n",
        "    print(\"All villains and their evil plans:\")\n",
        "    for name, power in rows:\n",
        "        print(f\"{name}: {power}\")\n",
        "\n",
        "#fetch the superhero who has fought the most battles\n",
        "#gets name of hero and gets the number of battles fought\n",
        "#joins hero with the correct number of battles fought\n",
        "#order descending\n",
        "cursor.execute('''\n",
        "    SELECT hero.name AS hero_name, COUNT(battle.id) AS battles_fought\n",
        "    FROM heroes hero\n",
        "    LEFT JOIN battles battle ON hero.id = battle.hero_id\n",
        "    GROUP BY hero.id, hero.name\n",
        "    ORDER BY battles_fought DESC;\n",
        "''')\n",
        "\n",
        "#print the result\n",
        "print(cursor.fetchone())"
      ],
      "metadata": {
        "id": "F3aDQX0C-Blk",
        "outputId": "53797ec9-6361-4edf-9cff-a1549dad7b99",
        "colab": {
          "base_uri": "https://localhost:8080/"
        }
      },
      "id": "F3aDQX0C-Blk",
      "execution_count": 9,
      "outputs": [
        {
          "output_type": "stream",
          "name": "stdout",
          "text": [
            "All superheroes and their powers:\n",
            "Spider-Man: Web-slinging\n",
            "Iron Man: Powered Armor\n",
            "Batman: Genius Detective\n",
            "Superman: Super Strength\n",
            "Thor: God of Thunder\n",
            "Wonder Woman: Amazonian Strength\n",
            "Black Panther: Enhanced Agility\n",
            "The Flash: Super Speed\n",
            "Hulk: Super Strength\n",
            "Doctor Strange: Mystic Arts\n",
            "Hero won: \n",
            "(2, 9, 3, 'Hero Wins')\n",
            "(5, 1, 7, 'Hero Wins')\n",
            "(7, 9, 8, 'Hero Wins')\n",
            "(8, 3, 2, 'Hero Wins')\n",
            "(9, 7, 5, 'Hero Wins')\n",
            "(13, 8, 9, 'Hero Wins')\n",
            "(20, 3, 4, 'Hero Wins')\n",
            "(29, 3, 5, 'Hero Wins')\n",
            "(30, 5, 5, 'Hero Wins')\n",
            "All villains and their evil plans:\n",
            "Green Goblin: Terrorize New York\n",
            "Thanos: Collect all Infinity Stones\n",
            "Joker: Spread chaos in Gotham\n",
            "Lex Luthor: Defeat Superman\n",
            "Loki: Trick humanity into worshiping him\n",
            "Ultron: AI world domination\n",
            "Darkseid: Control the universe\n",
            "Venom: Consume Spider-Man\n",
            "Magneto: Mutant supremacy\n",
            "Red Skull: Revive Hydra\n",
            "('Batman', 7)\n"
          ]
        }
      ]
    },
    {
      "cell_type": "markdown",
      "id": "de8bda94",
      "metadata": {
        "id": "de8bda94"
      },
      "source": [
        "## Step 4: Add a Custom Feature\n",
        "\n",
        "### Tasks:\n",
        "1. Design and implement an additional table related to superheroes or villains.\n",
        "2. Populate it with data.\n",
        "3. Write at least one query to retrieve meaningful insights from the new table.\n",
        "\n",
        "**Examples of Custom Features:**\n",
        "- Sidekicks for superheroes\n",
        "- Villain hideouts\n",
        "- Battle locations\n",
        "- Superhero equipment\n",
        "\n",
        "✅ **Checkpoint:** Ensure that the new table and queries function correctly."
      ]
    },
    {
      "cell_type": "code",
      "source": [
        "cursor.execute('DROP TABLE IF EXISTS SuperheroEquipment;')\n",
        "\n",
        "#creating hero equipment table\n",
        "#has hero id, equipment name that has 100 character max, description of the equipment, and powerlevel of the equipment\n",
        "cursor.execute('''\n",
        "CREATE TABLE SuperheroEquipment (\n",
        "    hero_id INTEGER,\n",
        "    equipment_name VARCHAR(100),\n",
        "    description TEXT,\n",
        "    powerlevel INTEGER,\n",
        "    FOREIGN KEY (hero_id) REFERENCES heroes(hero_id)\n",
        ");\n",
        "''')\n",
        "\n",
        "#creating data to insert into the equipment table\n",
        "equipment = [\n",
        "    (1, 'Web-Shooter', 'shoot webs from Spider-Man wrists', 56),\n",
        "    (2, 'Iron Man Armour', 'mechanized suit with weapons and flight capability', 73),\n",
        "    (3, 'Batsuit', 'high-tech suit equipped with gadgets for Batman', 60),\n",
        "    (4, 'Kryptonian Suit', 'nearly indestructible suit that enhances durability and adapts to solar energy', 80),\n",
        "    (5, 'Mjolnir', 'hammer wielded by Thor, capable of summoning lightning', 77),\n",
        "    (6, 'Lasso of Truth', 'magical lasso that forces people to tell the truth and is unbreakable', 85),\n",
        "    (7, 'Vibranium Suit', 'suit made from Vibranium that absorbs kinetic energy and enhances agility', 100),\n",
        "    (8, 'Speed Force Ring', 'ring that stores his suit and is linked to the Speed Force for energy boosts', 86),\n",
        "    (9, 'Gamma Gauntlets', 'gauntlets designed to enhance control and focus Hulk’s strength', 70),\n",
        "    (10, 'Eye of Agamotto', 'mystical artifact containing the Time Stone, used for time manipulation', 72)\n",
        "]\n",
        "\n",
        "#inserting data created into the equipment table\n",
        "cursor.executemany('''\n",
        "    INSERT INTO SuperheroEquipment (hero_id, equipment_name, description, powerlevel)\n",
        "    VALUES (?, ?, ?, ?);\n",
        "''', equipment)\n",
        "\n",
        "#making sure successfully inserted the data\n",
        "connection.commit()\n",
        "print('Inserted 10 equipments into the SuperheroEquipment table.')\n",
        "\n",
        "#prints out our new table with the data\n",
        "print('All equipments:')\n",
        "for row in cursor.execute('SELECT * FROM SuperheroEquipment'):\n",
        "    print(row)\n",
        "\n",
        "#selects the strongest equipment and prints it\n",
        "cursor.execute('''\n",
        "    SELECT equipment_name, description, powerlevel\n",
        "    FROM SuperheroEquipment\n",
        "    ORDER BY powerlevel DESC\n",
        "    LIMIT 1;\n",
        "''')\n",
        "\n",
        "print(cursor.fetchone())"
      ],
      "metadata": {
        "id": "7HWi09jY-CN-",
        "colab": {
          "base_uri": "https://localhost:8080/"
        },
        "outputId": "98f974eb-2a26-435c-97fd-94358d7f9a98"
      },
      "id": "7HWi09jY-CN-",
      "execution_count": 26,
      "outputs": [
        {
          "output_type": "stream",
          "name": "stdout",
          "text": [
            "Inserted 10 equipments into the SuperheroEquipment table.\n",
            "All equipments:\n",
            "(1, 'Web-Shooter', 'shoot webs from Spider-Man wrists', 56)\n",
            "(2, 'Iron Man Armour', 'mechanized suit with weapons and flight capability', 73)\n",
            "(3, 'Batsuit', 'high-tech suit equipped with gadgets for Batman', 60)\n",
            "(4, 'Kryptonian Suit', 'nearly indestructible suit that enhances durability and adapts to solar energy', 80)\n",
            "(5, 'Mjolnir', 'hammer wielded by Thor, capable of summoning lightning', 77)\n",
            "(6, 'Lasso of Truth', 'magical lasso that forces people to tell the truth and is unbreakable', 85)\n",
            "(7, 'Vibranium Suit', 'suit made from Vibranium that absorbs kinetic energy and enhances agility', 100)\n",
            "(8, 'Speed Force Ring', 'ring that stores his suit and is linked to the Speed Force for energy boosts', 86)\n",
            "(9, 'Gamma Gauntlets', 'gauntlets designed to enhance control and focus Hulk’s strength', 70)\n",
            "(10, 'Eye of Agamotto', 'mystical artifact containing the Time Stone, used for time manipulation', 72)\n",
            "('Vibranium Suit', 'suit made from Vibranium that absorbs kinetic energy and enhances agility', 100)\n"
          ]
        }
      ]
    },
    {
      "cell_type": "markdown",
      "id": "9bf43fe6",
      "metadata": {
        "id": "9bf43fe6"
      },
      "source": [
        "## Bonus Challenge (+5 Points)\n",
        "\n",
        "### Tasks:\n",
        "1. Enhance your project by adding a visual or interactive component.\n",
        "\n",
        "**Options:**\n",
        "- Visualize battles using Matplotlib (e.g., a bar chart showing how many battles each superhero has fought).\n",
        "- Make it interactive (e.g., allow users to input a superhero name and display their battles).\n",
        "\n",
        "✅ **Checkpoint:** If attempting the bonus, ensure that your visualization or interactive component works correctly."
      ]
    },
    {
      "cell_type": "code",
      "source": [
        "import matplotlib.pyplot as plt\n",
        "\n",
        "#fetch the superhero who has fought the most battles\n",
        "#gets name of hero and gets the number of battles fought\n",
        "#joins hero with the correct number of battles fought\n",
        "#order descending\n",
        "cursor.execute('''\n",
        "    SELECT hero.name AS hero_name, COUNT(battle.id) AS battles_fought\n",
        "    FROM heroes hero\n",
        "    LEFT JOIN battles battle ON hero.id = battle.hero_id\n",
        "    GROUP BY hero.id, hero.name\n",
        "    ORDER BY battles_fought DESC;\n",
        "''')\n",
        "\n",
        "#gets all the data\n",
        "battle_data = cursor.fetchall()\n",
        "\n",
        "#extract hero names and battle counts\n",
        "heroes = [row[0] for row in battle_data]\n",
        "battle_counts = [row[1] for row in battle_data]\n",
        "\n",
        "#plot the data\n",
        "#width 10 in height 5 in\n",
        "plt.figure(figsize=(10, 5))\n",
        "#x axis hero battle count = y aka bar height color is blue\n",
        "plt.bar(heroes, battle_counts, color='skyblue')\n",
        "#label x label y and gives title\n",
        "plt.xlabel('Superheroes')\n",
        "plt.ylabel('Number of Battles')\n",
        "plt.title('Number of Battles Fought by Each Superhero')\n",
        "#makes easier read name x axis\n",
        "plt.xticks(rotation=45)\n",
        "#show bar graph\n",
        "plt.show()\n",
        "#gets rows til none\n",
        "print(cursor.fetchone())"
      ],
      "metadata": {
        "id": "TNmCgEtF-C5K",
        "colab": {
          "base_uri": "https://localhost:8080/",
          "height": 444
        },
        "outputId": "652e26a3-d601-4ac3-f667-7dd0c8828e1b"
      },
      "id": "TNmCgEtF-C5K",
      "execution_count": 11,
      "outputs": [
        {
          "output_type": "display_data",
          "data": {
            "text/plain": [
              "<Figure size 1000x500 with 1 Axes>"
            ],
            "image/png": "[encoded data removed]"
          },
          "metadata": {}
        },
        {
          "output_type": "stream",
          "name": "stdout",
          "text": [
            "None\n"
          ]
        }
      ]
    },
    {
      "cell_type": "markdown",
      "id": "89f56c05",
      "metadata": {
        "id": "89f56c05"
      },
      "source": [
        "## Submission Guidelines\n",
        "\n",
        "Each group must submit a **Google Colab Notebook (.ipynb)** containing:\n",
        "- ✅ **Database schema (DDL)**\n",
        "- ✅ **CSV imports & data insertion (DML)**\n",
        "- ✅ **SQL queries & results**\n",
        "- ✅ **Custom feature (bonus if applicable)**"
      ]
    },
    {
      "cell_type": "markdown",
      "id": "61477c9b",
      "metadata": {
        "id": "61477c9b"
      },
      "source": [
        "## Grading Criteria (Total: 25 Points)\n",
        "\n",
        "| Section                 | Points |\n",
        "|-------------------------|--------|\n",
        "| Database Setup          | 5      |\n",
        "| Data Importing         | 10     |\n",
        "| Querying the Data      | 10     |\n",
        "| Extra Feature          | 5      |\n",
        "| Bonus Challenge (Optional) | +5  |"
      ]
    },
    {
      "cell_type": "markdown",
      "id": "92bf6839",
      "metadata": {
        "id": "92bf6839"
      },
      "source": [
        "### Final Notes:\n",
        "- Be **creative** when designing superheroes and villains.\n",
        "- **Comment your code** to explain its functionality.\n",
        "- **Have fun** building your superhero universe!"
      ]
    }
  ],
  "metadata": {
    "colab": {
      "provenance": [],
      "include_colab_link": true
    },
    "language_info": {
      "name": "python"
    },
    "kernelspec": {
      "name": "python3",
      "display_name": "Python 3"
    }
  },
  "nbformat": 4,
  "nbformat_minor": 5
}