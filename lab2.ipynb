{
  "nbformat": 4,
  "nbformat_minor": 0,
  "metadata": {
    "colab": {
      "provenance": [],
      "authorship_tag": "ABX9TyNRvF7rc3exOrCMrKElIXqC",
      "include_colab_link": true
    },
    "kernelspec": {
      "name": "python3",
      "display_name": "Python 3"
    },
    "language_info": {
      "name": "python"
    }
  },
  "cells": [
    {
      "cell_type": "markdown",
      "metadata": {
        "id": "view-in-github",
        "colab_type": "text"
      },
      "source": [
        "<a href=\"https://colab.research.google.com/github/pokexpert/lab/blob/main/lab2.ipynb\" target=\"_parent\"><img src=\"https://colab.research.google.com/assets/colab-badge.svg\" alt=\"Open In Colab\"/></a>"
      ]
    },
    {
      "cell_type": "code",
      "source": [
        "import requests\n",
        "\n",
        "flight_numbers = [\"N350XX\", \"N621MM\"]\n",
        "\n",
        "base_url = \"https://aeroapi.flightaware.com/aeroapi\"\n",
        "\n",
        "api_key = \" \"\n",
        "\n",
        "headers = {\n",
        "    'x-apikey': api_key\n",
        "}\n",
        "\n",
        "def get_flight_info(flight_number):\n",
        "    url = f\"{base_url}/flight/{flight_number}\"\n",
        "    response = requests.get(url, headers=headers)\n",
        "    flight_data = response.json()\n",
        "    return flight_data\n",
        "def display_flight_info(flight_data):\n",
        "    if 'error' in flight_data:\n",
        "        print(flight_data[\"error\"])\n",
        "    else:\n",
        "        print(\"Flight Information:\")\n",
        "        print(f\"Flight Number: {flight_data['ident']}\")\n",
        "        print(f\"Airline: {flight_data['airline']['name']}\")\n",
        "        print(f\"Departure Airport: {flight_data['origin']['airport_name']}\")\n",
        "        print(f\"Arrival Airport: {flight_data['destination']['airport_name']}\")\n",
        "        print(f\"Status: {flight_data['status']}\")\n",
        "        print(f\"Scheduled Departure: {flight_data['estimated_departure_time']}\")\n",
        "        print(f\"Scheduled Arrival: {flight_data['estimated_arrival_time']}\")\n",
        "\n",
        "for flight_number in flight_numbers:\n",
        "    flight_info = get_flight_info(flight_number)\n",
        "    print(f\"\\nDetails for flight {flight_number}:\")\n",
        "    display_flight_info(flight_info)\n"
      ],
      "metadata": {
        "id": "EPjQowuyoups"
      },
      "execution_count": null,
      "outputs": []
    }
  ]
}